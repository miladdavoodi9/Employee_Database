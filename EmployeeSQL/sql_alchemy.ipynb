{
 "cells": [
  {
   "cell_type": "code",
   "execution_count": null,
   "metadata": {},
   "outputs": [],
   "source": [
    "#import Pandas and SQL Alchemy\n",
    "import pandas as pd\n",
    "from sqlalchemy import create_engine, inspect\n",
    "from sqlalchemy.ext.declarative import declarative_base\n",
    "from sqlalchemy import Column, Integer, String, Float\n",
    "from sqlalchemy.orm import Session\n",
    "from sqlalchemy.ext.automap import automap_base\n",
    "\n",
    "Base = declarative_base()\n",
    "\n",
    "#Create a connection to the Database\n",
    "database_path = \"/employees.sqlite\"\n",
    "\n",
    "#Create an engine to connect to the database\n",
    "engine = create_engine(\"postgresql://localhost:5432/Employees Database.sqlite\")\n",
    "conn = engine.connect()\n",
    "\n",
    "#Declare a Base using 'automap_base()'\n",
    "Base = automap_base()\n",
    "\n",
    "# Use the Base class to reflect the database tables\n",
    "Base.prepare(engine, reflect=True)\n",
    "\n",
    "#Print all of the classes mapped to the Base\n",
    "Base.classes.keys()\n",
    "\n",
    "\n",
    "# Query Records using Pandas\n",
    "df = pd.read_sql(\"SELECT * FROM icecreamstore\", conn)\n",
    "df.head()\n"
   ]
  }
 ],
 "metadata": {
  "kernelspec": {
   "display_name": "Python 3",
   "language": "python",
   "name": "python3"
  },
  "language_info": {
   "codemirror_mode": {
    "name": "ipython",
    "version": 3
   },
   "file_extension": ".py",
   "mimetype": "text/x-python",
   "name": "python",
   "nbconvert_exporter": "python",
   "pygments_lexer": "ipython3",
   "version": "3.7.4"
  }
 },
 "nbformat": 4,
 "nbformat_minor": 4
}
